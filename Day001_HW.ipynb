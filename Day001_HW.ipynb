{
  "cells": [
    {
      "metadata": {},
      "cell_type": "markdown",
      "source": "# 資料來源與檔案存取\n\n* 資料來源與取得\n* 開放資料\n* 資料儲存格式\n* Python 存取檔案"
    },
    {
      "metadata": {},
      "cell_type": "markdown",
      "source": "## 作業目標\n\n* 1.（簡答題）檔案、API、爬蟲三種取得資料方式有什麼不同？\n* 2.（實作）完成一個程式，需滿足下列需求：\n    * 下載指定檔案到 Data 資料夾，存成檔名 Homework.txt\n    * 檢查 Data 資料夾是否有 Homework.txt 檔名之檔案\n    * 將「Hello World」字串覆寫到 Homework.txt 檔案\n    * 檢查 Homework.txt 檔案字數是否符合 Hello World 字數\n"
    },
    {
      "metadata": {},
      "cell_type": "markdown",
      "source": "### 1.（簡答題）檔案、API、爬蟲三種取得資料方式有什麼不同？"
    },
    {
      "metadata": {},
      "cell_type": "markdown",
      "source": "### 2.（實作）完成一個程式，需滿足下列需求：\n    * 下載指定檔案到 Data 資料夾，存成檔名 Homework.txt\n    * 檢查 Data 資料夾是否有 Homework.txt 檔名之檔案\n    * 將「Hello World」字串覆寫到 Homework.txt 檔案\n    * 檢查 Homework.txt 檔案字數是否符合 Hello World 字數\n"
    },
    {
      "metadata": {
        "trusted": true
      },
      "cell_type": "code",
      "source": "# 根據需求引入正確的 Library\n\nfrom urllib.request import urlretrieve\nimport os",
      "execution_count": 7,
      "outputs": []
    },
    {
      "metadata": {
        "trusted": true
      },
      "cell_type": "code",
      "source": "# 下載檔案到 Data 資料夾，存成檔名 Homework.txt\n\n#try:\n#os.makedirs( './Data', exist_ok=True )\n   \nurlretrieve (\"https://www.w3.org/TR/PNG/iso_8859-1.txt\", \"./data/Homework.txt\")\n   \n#except:\n#    print('發生錯誤！')",
      "execution_count": 9,
      "outputs": [
        {
          "output_type": "execute_result",
          "execution_count": 9,
          "data": {
            "text/plain": "('./data/Homework.txt', <http.client.HTTPMessage at 0x7fd812502fd0>)"
          },
          "metadata": {}
        }
      ]
    },
    {
      "metadata": {
        "trusted": true
      },
      "cell_type": "code",
      "source": "# 檢查 Data 資料夾是否有 Homework.txt 檔名之檔案\n\nfiles = []\n\n# 打開文件（預設位置會是跟 .ipynb 程式相同的目錄）\ndirs = os.listdir( './data' )\n\n# 顯示所有文件\nfor files in dirs:\n    print(files)\n\nif 'Homework.txt' in files:\n    print('[O] 檢查 Data 資料夾是否有 Homework.txt 檔名之檔案')\nelse:\n    print('[X] 檢查 Data 資料夾是否有 Homework.txt 檔名之檔案')",
      "execution_count": 11,
      "outputs": [
        {
          "output_type": "stream",
          "text": "2.txt\nHomework.txt\n[O] 檢查 Data 資料夾是否有 Homework.txt 檔名之檔案\n",
          "name": "stdout"
        }
      ]
    },
    {
      "metadata": {
        "trusted": true
      },
      "cell_type": "code",
      "source": "# 將「Hello World」字串覆寫到 Homework.txt 檔案\n\nf = ''\n\nwith open(\"./data/Homework.txt\", \"w\") as fh:\n    f = fh.write(\"Hello World\\n\")\n    print(f)\ntry:\n    with open(\"./Data/Homework.txt\", \"r\") as fh:\n        '''\n        Your Code\n        '''\nexcept EnvironmentError: # parent of IOError, OSError *and* WindowsError where available\n    pass    \n    \n",
      "execution_count": 13,
      "outputs": [
        {
          "output_type": "stream",
          "text": "12\n",
          "name": "stdout"
        }
      ]
    },
    {
      "metadata": {
        "scrolled": true,
        "trusted": true
      },
      "cell_type": "code",
      "source": "# 檢查 Homework.txt 檔案字數是否符合 Hello World 字數\n\nf = open('./data/Homework.txt', 'rb')\ndata = f.read()\n\nif len('Hello World') == len(data):\n    print('[O] 檢查 Homework.txt 檔案字數是否符合 Hello World 字數')\nelse:\n    print('[X] 檢查 Homework.txt 檔案字數是否符合 Hello World 字數')",
      "execution_count": 16,
      "outputs": [
        {
          "output_type": "stream",
          "text": "[X] 檢查 Homework.txt 檔案字數是否符合 Hello World 字數\n",
          "name": "stdout"
        }
      ]
    },
    {
      "metadata": {
        "trusted": false
      },
      "cell_type": "code",
      "source": "",
      "execution_count": null,
      "outputs": []
    },
    {
      "metadata": {
        "trusted": false
      },
      "cell_type": "code",
      "source": "",
      "execution_count": null,
      "outputs": []
    },
    {
      "metadata": {
        "trusted": false
      },
      "cell_type": "code",
      "source": "",
      "execution_count": null,
      "outputs": []
    }
  ],
  "metadata": {
    "kernelspec": {
      "name": "python3",
      "display_name": "Python 3",
      "language": "python"
    },
    "language_info": {
      "mimetype": "text/x-python",
      "nbconvert_exporter": "python",
      "name": "python",
      "pygments_lexer": "ipython3",
      "version": "3.5.4",
      "file_extension": ".py",
      "codemirror_mode": {
        "version": 3,
        "name": "ipython"
      }
    }
  },
  "nbformat": 4,
  "nbformat_minor": 2
}